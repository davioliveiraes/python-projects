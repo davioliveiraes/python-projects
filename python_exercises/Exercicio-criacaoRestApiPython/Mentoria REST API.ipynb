{
 "cells": [
  {
   "cell_type": "markdown",
   "id": "0baaa13b",
   "metadata": {},
   "source": [
    "### Consumir dados de uma API"
   ]
  },
  {
   "cell_type": "code",
   "execution_count": 1,
   "id": "dbdd6973",
   "metadata": {},
   "outputs": [],
   "source": [
    "# API de cotações de moedas\n"
   ]
  },
  {
   "cell_type": "code",
   "execution_count": 2,
   "id": "f60e4ba9",
   "metadata": {},
   "outputs": [],
   "source": [
    "# Pegando o CEP\n"
   ]
  },
  {
   "cell_type": "markdown",
   "id": "fb303b0c",
   "metadata": {},
   "source": [
    "### Criar uma API com Flask"
   ]
  },
  {
   "cell_type": "code",
   "execution_count": 3,
   "id": "7a41455e",
   "metadata": {},
   "outputs": [],
   "source": [
    "# importando a nest_asyncio para rodar o servidor em Flask usando o JupyterNotebook no Vscode\n"
   ]
  },
  {
   "cell_type": "code",
   "execution_count": 4,
   "id": "13f8e5d1",
   "metadata": {},
   "outputs": [],
   "source": [
    "# Exemplo da Aplicação\n"
   ]
  },
  {
   "cell_type": "code",
   "execution_count": 5,
   "id": "0a0167eb",
   "metadata": {},
   "outputs": [],
   "source": [
    "# Aplicação "
   ]
  },
  {
   "cell_type": "code",
   "execution_count": 6,
   "id": "71f7f184",
   "metadata": {},
   "outputs": [],
   "source": [
    "# Pritando a requisição feita no servidor\n"
   ]
  }
 ],
 "metadata": {
  "kernelspec": {
   "display_name": "Python 3",
   "language": "python",
   "name": "python3"
  },
  "language_info": {
   "codemirror_mode": {
    "name": "ipython",
    "version": 3
   },
   "file_extension": ".py",
   "mimetype": "text/x-python",
   "name": "python",
   "nbconvert_exporter": "python",
   "pygments_lexer": "ipython3",
   "version": "3.12.4"
  }
 },
 "nbformat": 4,
 "nbformat_minor": 5
}
