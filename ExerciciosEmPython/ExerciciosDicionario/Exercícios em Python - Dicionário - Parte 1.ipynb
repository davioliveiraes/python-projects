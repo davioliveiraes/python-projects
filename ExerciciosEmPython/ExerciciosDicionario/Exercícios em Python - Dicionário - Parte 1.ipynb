{
 "cells": [
  {
   "cell_type": "markdown",
   "metadata": {},
   "source": [
    "# Exercícios\n",
    "\n",
    "## 1. Identificando Locais de Risco\n",
    "\n",
    "(Não conhecemos muito dos números e indicadores reais, esse é um exercício imaginário para treinarmos com um cenário mais prático)\n",
    "\n",
    "Digamos que você está construindo um programa para identificar níveis de CO2 (gás carbônico) em determinados locais para evitar potenciais acidentes. Em cada um desses locais a sua empresa tem 5 sensores que captam o nível de CO2 do local.\n",
    "\n",
    "Os níveis normais de CO2 são em média 350. O nível de CO2 de um local é dado pela média captada pelos 5 sensores.\n",
    "\n",
    "Isso significa que se tivermos os 5 sensores do Rio de Janeiro marcando: 350, 400, 450, 350, 300, o nível de CO2 do Rio de Janeiro será dado por: (350 + 400 + 450 + 350 + 300) / 5 = 370.\n",
    "\n",
    "Caso o nível seja maior do que 450, um aviso deve ser exibido pelo seu programa dizendo, por exemplo: Rio de Janeiro está com níveis altíssimos de CO2 (490), chamar equipe especializada para verificar a região.\n",
    "\n",
    "Os resultados dos sensores são monitorados frequentemente e são dados para o sistema em forma de dicionário:"
   ]
  },
  {
   "cell_type": "code",
   "execution_count": 9,
   "metadata": {},
   "outputs": [
    {
     "name": "stdout",
     "output_type": "stream",
     "text": [
      "Estado: AC - Níveis por sensores: [325, 405, 429, 486, 402]\n",
      "Estado: AC - Está com a média pré-crítica de CO2 (409.4). Alerta já de muita atenção.\n",
      "====================================================================================================\n",
      "Estado: AL - Níveis por sensores: [492, 495, 310, 407, 388]\n",
      "Estado: AL - Está com a média pré-crítica de CO2 (418.4). Alerta já de muita atenção.\n",
      "====================================================================================================\n",
      "Estado: AP - Níveis por sensores: [507, 503, 368, 338, 400]\n",
      "Estado: AP - Está com a média pré-crítica de CO2 (423.2). Alerta já de muita atenção.\n",
      "====================================================================================================\n",
      "Estado: AM - Níveis por sensores: [429, 456, 352, 377, 363]\n",
      "Estado: AM - Está com a média pré-crítica de CO2 (395.4). Alerta já de muita atenção.\n",
      "====================================================================================================\n",
      "Estado: BA - Níveis por sensores: [321, 508, 372, 490, 412]\n",
      "Estado: BA - Está com a média pré-crítica de CO2 (420.6). Alerta já de muita atenção.\n",
      "====================================================================================================\n",
      "Estado: CE - Níveis por sensores: [424, 328, 425, 516, 480]\n",
      "Estado: CE - Está com a média pré-crítica de CO2 (434.6). Alerta já de muita atenção.\n",
      "====================================================================================================\n",
      "Estado: ES - Níveis por sensores: [449, 506, 461, 337, 336]\n",
      "Estado: ES - Está com a média pré-crítica de CO2 (417.8). Alerta já de muita atenção.\n",
      "====================================================================================================\n",
      "Estado: GO - Níveis por sensores: [425, 460, 385, 485, 460]\n",
      "Estado: GO - Está com a média pré-crítica de CO2 (443.0). Alerta já de muita atenção.\n",
      "====================================================================================================\n",
      "Estado: MA - Níveis por sensores: [361, 310, 344, 425, 490]\n",
      "Estado: MA - Está com a média pré-crítica de CO2 (386.0). Alerta já de muita atenção.\n",
      "====================================================================================================\n",
      "Estado: MT - Níveis por sensores: [358, 402, 425, 386, 379]\n",
      "Estado: MT - Está com a média pré-crítica de CO2 (390.0). Alerta já de muita atenção.\n",
      "====================================================================================================\n",
      "Estado: MS - Níveis por sensores: [324, 357, 441, 405, 427]\n",
      "Estado: MS - Está com a média pré-crítica de CO2 (390.8). Alerta já de muita atenção.\n",
      "====================================================================================================\n",
      "Estado: MG - Níveis por sensores: [345, 367, 391, 427, 516]\n",
      "Estado: MG - Está com a média pré-crítica de CO2 (409.2). Alerta já de muita atenção.\n",
      "====================================================================================================\n",
      "Estado: PA - Níveis por sensores: [479, 514, 392, 493, 329]\n",
      "Estado: PA - Está com a média pré-crítica de CO2 (441.4). Alerta já de muita atenção.\n",
      "====================================================================================================\n",
      "Estado: PB - Níveis por sensores: [418, 499, 317, 302, 476]\n",
      "Estado: PB - Está com a média pré-crítica de CO2 (402.4). Alerta já de muita atenção.\n",
      "====================================================================================================\n",
      "Estado: PR - Níveis por sensores: [420, 508, 419, 396, 327]\n",
      "Estado: PR - Está com a média pré-crítica de CO2 (414.0). Alerta já de muita atenção.\n",
      "====================================================================================================\n",
      "Estado: PE - Níveis por sensores: [404, 444, 495, 320, 343]\n",
      "Estado: PE - Está com a média pré-crítica de CO2 (401.2). Alerta já de muita atenção.\n",
      "====================================================================================================\n",
      "Estado: PI - Níveis por sensores: [513, 513, 304, 377, 475]\n",
      "Estado: PI - Está com a média pré-crítica de CO2 (436.4). Alerta já de muita atenção.\n",
      "====================================================================================================\n",
      "Estado: RJ - Níveis por sensores: [502, 481, 492, 502, 506]\n",
      "Estado: RJ - Está com a média altíssima de CO2 (496.6). Chamar equipe especializada para verificar a região.\n",
      "====================================================================================================\n",
      "Estado: RN - Níveis por sensores: [446, 437, 519, 356, 317]\n",
      "Estado: RN - Está com a média pré-crítica de CO2 (415.0). Alerta já de muita atenção.\n",
      "====================================================================================================\n",
      "Estado: RS - Níveis por sensores: [427, 518, 459, 317, 321]\n",
      "Estado: RS - Está com a média pré-crítica de CO2 (408.4). Alerta já de muita atenção.\n",
      "====================================================================================================\n",
      "Estado: RO - Níveis por sensores: [517, 466, 512, 326, 458]\n",
      "Estado: RO - Está com a média altíssima de CO2 (455.8). Chamar equipe especializada para verificar a região.\n",
      "====================================================================================================\n",
      "Estado: RR - Níveis por sensores: [466, 495, 469, 495, 310]\n",
      "Estado: RR - Está com a média pré-crítica de CO2 (447.0). Alerta já de muita atenção.\n",
      "====================================================================================================\n",
      "Estado: SC - Níveis por sensores: [495, 436, 382, 483, 479]\n",
      "Estado: SC - Está com a média altíssima de CO2 (455.0). Chamar equipe especializada para verificar a região.\n",
      "====================================================================================================\n",
      "Estado: SP - Níveis por sensores: [495, 407, 362, 389, 317]\n",
      "Estado: SP - Está com a média pré-crítica de CO2 (394.0). Alerta já de muita atenção.\n",
      "====================================================================================================\n",
      "Estado: SE - Níveis por sensores: [508, 351, 334, 389, 418]\n",
      "Estado: SE - Está com a média pré-crítica de CO2 (400.0). Alerta já de muita atenção.\n",
      "====================================================================================================\n",
      "Estado: TO - Níveis por sensores: [339, 490, 304, 488, 419]\n",
      "Estado: TO - Está com a média pré-crítica de CO2 (408.0). Alerta já de muita atenção.\n",
      "====================================================================================================\n",
      "Estado: DF - Níveis por sensores: [376, 516, 320, 310, 518]\n",
      "Estado: DF - Está com a média pré-crítica de CO2 (408.0). Alerta já de muita atenção.\n",
      "====================================================================================================\n"
     ]
    }
   ],
   "source": [
    "niveis_co2 = {\n",
    "    'AC': [325,405,429,486,402],\n",
    "    'AL': [492,495,310,407,388],\n",
    "    'AP': [507,503,368,338,400],\n",
    "    'AM': [429,456,352,377,363],\n",
    "    'BA': [321,508,372,490,412],\n",
    "    'CE': [424,328,425,516,480],\n",
    "    'ES': [449,506,461,337,336],\n",
    "    'GO': [425,460,385,485,460],\n",
    "    'MA': [361,310,344,425,490],\n",
    "    'MT': [358,402,425,386,379],\n",
    "    'MS': [324,357,441,405,427],\n",
    "    'MG': [345,367,391,427,516],\n",
    "    'PA': [479,514,392,493,329],\n",
    "    'PB': [418,499,317,302,476],\n",
    "    'PR': [420,508,419,396,327],\n",
    "    'PE': [404,444,495,320,343],\n",
    "    'PI': [513,513,304,377,475],\n",
    "    'RJ': [502,481,492,502,506],\n",
    "    'RN': [446,437,519,356,317],\n",
    "    'RS': [427,518,459,317,321],\n",
    "    'RO': [517,466,512,326,458],\n",
    "    'RR': [466,495,469,495,310],\n",
    "    'SC': [495,436,382,483,479],\n",
    "    'SP': [495,407,362,389,317],\n",
    "    'SE': [508,351,334,389,418],\n",
    "    'TO': [339,490,304,488,419],\n",
    "    'DF': [376,516,320,310,518], \n",
    "}\n",
    "\n"
   ]
  },
  {
   "cell_type": "markdown",
   "metadata": {},
   "source": [
    "## 2. Case da Hashtag\n",
    "\n",
    "Recentemente tivemos que fazer backup dos vídeos que temos hospedados no Vimeo. Acontece que não existe um botão de Download de todos os vídeos ao mesmo tempo, precisamos entrar em 1 por 1 e fazer o download manualmente.\n",
    "\n",
    "A alternativa é gerar um código em Python que converse com a API do Vimeo (API é uma integração que as ferramentas abrem para programadores poderem fazer integrações dos seus próprios programas/scripts com a ferramenta).\n",
    "\n",
    "Para resolver isso, a gente fez a integração e fizemos uma \"requisição\" de todos os vídeos para a Vimeo. Essa requisição dá como resposta para o nosso código isso:"
   ]
  },
  {
   "cell_type": "code",
   "execution_count": 11,
   "metadata": {},
   "outputs": [
    {
     "name": "stdout",
     "output_type": "stream",
     "text": [
      "{'uri': '/videos/465407533', 'name': '15 Atalhos no Excel para Ficar Mais Produtivo', 'download': [{'quality': 'source', 'type': 'source', 'width': 1920, 'height': 1080, 'expires': '2020-10-07T04:00:55+00:00', 'link': 'https://player.vimeo.com/play/2064518513?s=465407533_1602043255_5f2f93dd00b66eba66d481f913383b4f&loc=external&context=Vimeo%5CController%5CApi%5CResources%5CUser%5CVideosController.&download=1&filename=15%2BAtalhos%2Bno%2BExcel%2Bpara%2BFicar%2BMais%2BProdutivosource.mp4', 'created_time': '2020-10-06T14:26:17+00:00', 'fps': 30, 'size': 402678442, 'md5': 'af09508ceceed4994554f04e8b931e22', 'public_name': 'Original', 'size_short': '384.02MB'}, {'quality': 'hd', 'type': 'video/mp4', 'width': 1920, 'height': 1080, 'expires': '2020-10-07T04:00:55+00:00', 'link': 'https://player.vimeo.com/play/2064523157?s=465407533_1602043255_ab7b8353c59b5048032396ec5d95a276&loc=external&context=Vimeo%5CController%5CApi%5CResources%5CUser%5CVideosController.&download=1&filename=15%2BAtalhos%2Bno%2BExcel%2Bpara%2BFicar%2BMais%2BProdutivo175.mp4', 'created_time': '2020-10-06T14:29:06+00:00', 'fps': 30, 'size': 173556205, 'md5': '3c05e1e69bd6b13eb1464451033907d2', 'public_name': 'HD 1080p', 'size_short': '165.52MB'}, {'quality': 'sd', 'type': 'video/mp4', 'width': 960, 'height': 540, 'expires': '2020-10-07T04:00:55+00:00', 'link': 'https://player.vimeo.com/play/2064523153?s=465407533_1602043255_f5ac38009ec5c0a13b30600c631446a3&loc=external&context=Vimeo%5CController%5CApi%5CResources%5CUser%5CVideosController.&download=1&filename=15%2BAtalhos%2Bno%2BExcel%2Bpara%2BFicar%2BMais%2BProdutivo165.mp4', 'created_time': '2020-10-06T14:29:06+00:00', 'fps': 30, 'size': 89881848, 'md5': '4a5c5c96cdf18202ed20ca534fd88007', 'public_name': 'SD 540p', 'size_short': '85.72MB'}, {'quality': 'sd', 'type': 'video/mp4', 'width': 426, 'height': 240, 'expires': '2020-10-07T04:00:55+00:00', 'link': 'https://player.vimeo.com/play/2064522788?s=465407533_1602043255_16c69872e2c4e92cc949d0b772242959&loc=external&context=Vimeo%5CController%5CApi%5CResources%5CUser%5CVideosController.&download=1&filename=15%2BAtalhos%2Bno%2BExcel%2Bpara%2BFicar%2BMais%2BProdutivo139.mp4', 'created_time': '2020-10-06T14:28:31+00:00', 'fps': 30, 'size': 27401450, 'md5': '91cc0229087ec94bf67f64b01ad8768d', 'public_name': 'SD 240p', 'size_short': '26.13MB'}, {'quality': 'sd', 'type': 'video/mp4', 'width': 640, 'height': 360, 'expires': '2020-10-07T04:00:55+00:00', 'link': 'https://player.vimeo.com/play/2064522787?s=465407533_1602043255_310b087e2fc8c5e1154ce7a33d10d60e&loc=external&context=Vimeo%5CController%5CApi%5CResources%5CUser%5CVideosController.&download=1&filename=15%2BAtalhos%2Bno%2BExcel%2Bpara%2BFicar%2BMais%2BProdutivo164.mp4', 'created_time': '2020-10-06T14:28:31+00:00', 'fps': 30, 'size': 48627155, 'md5': '548640bf79ce1552a3401726bb0e4224', 'public_name': 'SD 360p', 'size_short': '46.37MB'}]}\n"
     ]
    }
   ],
   "source": []
  },
  {
   "cell_type": "markdown",
   "metadata": {},
   "source": [
    "Repare que é um código completamente confuso, mas que no fim do dia é um dicionário.\n",
    "\n",
    "Dentro dele queremos printar o link de download do vídeo para depois simplesmente clicar em todos os links e fazer o download de todos os vídeos.\n",
    "\n",
    "No nosso caso, tínhamos uma lista com os mais de 2.000 vídeos (sendo cada vídeo um dicionário exatamente como esse aí em cima), e por isso fizemos exatamente esse mesmo procedimento que você vai construir aqui abaixo, só que dentro de um \"for\" para percorrer todos os vídeos. Não podemos disponibilizar a lista inteira por questões de segurança e proteção de dados mesmo, mas o dicionário acima já vale o exemplo. "
   ]
  },
  {
   "cell_type": "code",
   "execution_count": 16,
   "metadata": {},
   "outputs": [
    {
     "name": "stdout",
     "output_type": "stream",
     "text": [
      "uri\n",
      "name\n",
      "download\n",
      "https://player.vimeo.com/play/2064518513?s=465407533_1602043255_5f2f93dd00b66eba66d481f913383b4f&loc=external&context=Vimeo%5CController%5CApi%5CResources%5CUser%5CVideosController.&download=1&filename=15%2BAtalhos%2Bno%2BExcel%2Bpara%2BFicar%2BMais%2BProdutivosource.mp4\n"
     ]
    }
   ],
   "source": [
    "#seu código aqui\n"
   ]
  }
 ],
 "metadata": {
  "kernelspec": {
   "display_name": "Python 3",
   "language": "python",
   "name": "python3"
  },
  "language_info": {
   "codemirror_mode": {
    "name": "ipython",
    "version": 3
   },
   "file_extension": ".py",
   "mimetype": "text/x-python",
   "name": "python",
   "nbconvert_exporter": "python",
   "pygments_lexer": "ipython3",
   "version": "3.11.6"
  }
 },
 "nbformat": 4,
 "nbformat_minor": 4
}
