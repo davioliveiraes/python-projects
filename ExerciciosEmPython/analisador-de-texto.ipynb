{
 "cells": [
  {
   "cell_type": "markdown",
   "id": "bc53556e-a539-4328-b873-fa5357312414",
   "metadata": {},
   "source": [
    "Crie um programa que analise um texto fornecido pelo usuário. O programa deve contar o número de palavras (independentemente se há repetição ou não), a quantidade de cada palavra e a quantidade de cada letra. Ignore maiúsculas e minúsculas ao contar letras (ou seja, transforme tudo para minúsculas). Faça o devido tratamento para pontuação e espaços ao contar palavras.\n",
    "\n",
    "O programa deve conter uma função chamada `analisar_texto` que recebe o texto como parâmetro e retorna a contagem de palavras, a frequência de palavras e a frequência de letras. A função deve ser devidamente documentada.\n",
    "\n",
    "Para o texto \"Olá mundo! Este é um teste. Olá novamente.\" o programa deve imprimir:\n",
    "\n",
    "```\n",
    "Contagem de palavras: 8\n",
    "Frequência de palavras: Counter({'Olá': 2, 'mundo': 1, 'Este': 1, 'é': 1, 'um': 1, 'teste': 1, 'novamente': 1})\n",
    "Frequência de letras: Counter({' ': 7, 'e': 6, 'o': 4, 't': 4, 'm': 3, 'n': 3, 'l': 2, 'á': 2, 'u': 2, 's': 2, 'd': 1, 'é': 1, 'v': 1, 'a': 1})\n",
    "```\n",
    "\n",
    "Dica: use o módulo `string` para obter uma lista de caracteres de pontuação. Exemplo:\n",
    "\n",
    "```python\n",
    "import string\n",
    "print(string.punctuation)\n",
    "```\n",
    "\n",
    "Dica: use o módulo `collections` para obter um contador de palavras e letras. Exemplo:\n",
    "\n",
    "```python\n",
    "from collections import Counter\n",
    "print(Counter(['a', 'b', 'a', 'c', 'b', 'a']))\n",
    "print(Counter('abacba'))\n",
    "``` "
   ]
  },
  {
   "cell_type": "code",
   "execution_count": 5,
   "id": "8feda3f2-210f-4224-9b53-de7206c039ae",
   "metadata": {},
   "outputs": [
    {
     "name": "stdout",
     "output_type": "stream",
     "text": [
      "Contagem de palavras: 12\n",
      "Frequência de palavras: Counter({'dos': 3, 'campeões': 2, 'salve': 1, 'o': 1, 'corinthians': 1, 'eternamente': 1, 'dentro': 1, 'nosso': 1, 'corações': 1})\n",
      "Frequência de letras: Counter({'e': 11, ' ': 11, 's': 10, 'o': 9, 'a': 6, 'n': 6, 'c': 4, 'r': 4, 't': 4, 'd': 4, 'm': 3, 'õ': 3, 'i': 2, 'p': 2, 'l': 1, 'v': 1, 'h': 1, 'ç': 1})\n"
     ]
    }
   ],
   "source": [
    "import string\n",
    "from collections import Counter\n",
    "\n",
    "def analisar_texto(texto):\n",
    "   texto_sem_pontuacao = texto.translate(str.maketrans('','', string.punctuation))\n",
    "   texto_minusculo = texto_sem_pontuacao.lower()\n",
    "   palavras = texto_minusculo.split()\n",
    "   frequencia_palavras = Counter(palavras)\n",
    "   frequencia_letras = Counter(texto_minusculo)\n",
    "   return len(palavras), frequencia_palavras, frequencia_letras\n",
    "\n",
    "if __name__ == \"__main__\":\n",
    "   texto_exemplo = \"Salve o Corinthians, dos campeões dos campeões, eternamente, dentro dos nosso corações.\"\n",
    "   contagem_palavras, frequencia_palavras, frequencia_letras = analisar_texto(texto_exemplo)\n",
    "   \n",
    "   print(f\"Contagem de palavras: {contagem_palavras}\")\n",
    "   print(f\"Frequência de palavras: {frequencia_palavras}\")\n",
    "   print(f\"Frequência de letras: {frequencia_letras}\")"
   ]
  }
 ],
 "metadata": {
  "kernelspec": {
   "display_name": "venv",
   "language": "python",
   "name": "python3"
  },
  "language_info": {
   "codemirror_mode": {
    "name": "ipython",
    "version": 3
   },
   "file_extension": ".py",
   "mimetype": "text/x-python",
   "name": "python",
   "nbconvert_exporter": "python",
   "pygments_lexer": "ipython3",
   "version": "3.12.4"
  }
 },
 "nbformat": 4,
 "nbformat_minor": 5
}
