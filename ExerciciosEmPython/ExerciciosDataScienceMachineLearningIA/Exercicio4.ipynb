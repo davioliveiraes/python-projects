{
 "cells": [
  {
   "cell_type": "markdown",
   "id": "f0e53cff",
   "metadata": {},
   "source": [
    "<!-- Projeto Desenvolvido na Data Science Academy - www.datascienceacademy.com.br -->\n",
    "# <font color='blue'>Data Science Academy</font>\n",
    "## <font color='blue'>Matemática e Estatística Aplicada Para Data Science, Machine Learning e IA</font>\n",
    "## <font color='blue'>Lista de Exercícios 4</font>\n",
    "## <font color='blue'>Operações com Vetores em Análise de Dados e Data Science</font>"
   ]
  },
  {
   "cell_type": "markdown",
   "id": "fcc53ee0",
   "metadata": {},
   "source": [
    "### Instalando e Carregando Pacotes\n"
   ]
  },
  {
   "cell_type": "code",
   "execution_count": 1,
   "id": "f5b6b490",
   "metadata": {},
   "outputs": [
    {
     "name": "stdout",
     "output_type": "stream",
     "text": [
      "Note: you may need to restart the kernel to use updated packages.\n"
     ]
    }
   ],
   "source": [
    "# Para atualizar um pacote, execute o comando abaixo no terminal ou prompt de comando:\n",
    "# pip install -U nome_pacote\n",
    "\n",
    "# Para instalar a versão exata de um pacote, execute o comando abaixo no terminal ou prompt de comando:\n",
    "# !pip install nome_pacote==versão_desejada\n",
    "\n",
    "# Depois de instalar ou atualizar o pacote, reinicie o jupyter notebook.\n",
    "\n",
    "# Instala o pacote watermark. \n",
    "# Esse pacote é usado para gravar as versões de outros pacotes usados neste jupyter notebook.\n",
    "%pip install -q -U watermark"
   ]
  },
  {
   "cell_type": "code",
   "execution_count": 2,
   "id": "09eb7c4e",
   "metadata": {},
   "outputs": [],
   "source": [
    "# Imposts\n",
    "import numpy as np\n",
    "import scipy"
   ]
  },
  {
   "cell_type": "code",
   "execution_count": 3,
   "id": "73c99fd5",
   "metadata": {},
   "outputs": [
    {
     "name": "stdout",
     "output_type": "stream",
     "text": [
      "Author: Data Science Academy\n",
      "\n"
     ]
    }
   ],
   "source": [
    "# Versões dos pacotes usados neste jupyter notebook\n",
    "%reload_ext watermark\n",
    "%watermark -a \"Data Science Academy\" "
   ]
  },
  {
   "cell_type": "markdown",
   "id": "485bdd23",
   "metadata": {},
   "source": [
    "**Resolva os exercícios abaixo usando Linguagem Python. Faça pesquisa complementar se necessário.**"
   ]
  },
  {
   "cell_type": "markdown",
   "id": "e73f204d",
   "metadata": {},
   "source": [
    "### Exercício 1: Produto Escalar em Aplicação Prática\n",
    "\n",
    "Descrição: Dados dois vetores que representam preferências de usuários em três categorias diferentes user1 = [4, 3, 2] e user2 = [1, 5, 4], calcule a similaridade entre esses usuários usando o produto escalar. "
   ]
  },
  {
   "cell_type": "code",
   "execution_count": 5,
   "id": "af743c48",
   "metadata": {},
   "outputs": [
    {
     "name": "stdout",
     "output_type": "stream",
     "text": [
      "A simularide dos usuários é: 27\n"
     ]
    }
   ],
   "source": [
    "user1 = np.array([4, 3, 2])\n",
    "user2 = np.array([1, 5, 4])\n",
    "\n",
    "similaridade = np.dot(user1, user2)\n",
    "print(f\"A simularide dos usuários é: {similaridade}\")"
   ]
  },
  {
   "cell_type": "markdown",
   "id": "5007b1c2",
   "metadata": {},
   "source": [
    "O produto escalar entre dois vetores, também conhecido como produto interno ou dot product, é uma operação matemática que resulta em um único número. Este número é uma medida de certos tipos de similaridade entre os dois vetores. Agora, interpretando o valor de 27:\n",
    "\n",
    "**Magnitude da Similaridade**: O valor absoluto (27 neste caso) indica a magnitude da similaridade. Quanto maior esse número, maior é a similaridade sob a métrica específica que o produto escalar representa.\n",
    "\n",
    "**Direção e Orientação**: O produto escalar é positivo quando os vetores apontam na mesma direção geral e negativo quando apontam em direções opostas. Um valor de 27, sendo positivo, sugere que user1 e user2 têm uma orientação geral semelhante no espaço vetorial considerado.\n",
    "\n",
    "**Contexto Específico**: A interpretação mais precisa depende do contexto onde esses vetores são aplicados. Por exemplo, se estes vetores representam preferências ou características em um sistema de recomendação, um valor alto pode indicar uma alta similaridade nessas preferências ou características.\n",
    "\n",
    "**Normalização**: É importante considerar a magnitude dos vetores originais. Se os vetores forem muito grandes, até mesmo vetores relativamente diferentes podem ter um produto escalar alto. Em muitos casos, é útil normalizar os vetores antes de calcular o produto escalar para obter uma medida de similaridade mais significativa."
   ]
  },
  {
   "cell_type": "markdown",
   "id": "e6aa396f",
   "metadata": {},
   "source": [
    "### Exercício 2: Multiplicação de Escalar por Vetor em Dados Reais\n",
    "\n",
    "Descrição: Dada uma série de preços de ações prices = [120, 125, 130, 128, 135], ajuste os preços em 15% e calcule o novo preço das ações."
   ]
  },
  {
   "cell_type": "code",
   "execution_count": 6,
   "id": "e9a19ed8",
   "metadata": {},
   "outputs": [
    {
     "name": "stdout",
     "output_type": "stream",
     "text": [
      "Novos preços: [138.   143.75 149.5  147.2  155.25]\n"
     ]
    }
   ],
   "source": [
    "prices = np.array([120, 125, 130, 128, 135])\n",
    "adjustment = 1.15\n",
    "new_price = prices * adjustment\n",
    "\n",
    "print(f\"Novos preços: {new_price}\")"
   ]
  },
  {
   "cell_type": "markdown",
   "id": "cc625b57",
   "metadata": {},
   "source": [
    "### Exercício 3: Otimização de Produto Escalar\n",
    "\n",
    "Descrição: Encontre o vetor unitário que maximiza o produto escalar com o vetor v = [3, 4, 5]. Use técnicas de otimização para encontrar a solução."
   ]
  },
  {
   "cell_type": "code",
   "execution_count": 8,
   "id": "604345fb",
   "metadata": {},
   "outputs": [
    {
     "name": "stdout",
     "output_type": "stream",
     "text": [
      "Vetor v: [3 4 5]\n",
      "Scipy - u ótimo: [0.42425876 0.56558521 0.70719018]\n",
      "Scipy - produto máximo: 7.071068\n",
      "Analítico - u ótimo: [0.42426407 0.56568542 0.70710678]\n",
      "Analítico - produto máximo: 7.071068\n",
      "Diferença: 0.00013049\n"
     ]
    }
   ],
   "source": [
    "import numpy as np\n",
    "from scipy.optimize import minimize\n",
    "\n",
    "def otimizar_produto_escalar(v):\n",
    "   def objetivo(u):\n",
    "      return -np.dot(u, v)\n",
    "   \n",
    "   def restricao(u):\n",
    "      return np.linalg.norm(u) - 1.0\n",
    "   \n",
    "   u_inicial = np.array([1.0, 0.0, 0.0])\n",
    "\n",
    "   resultado = minimize(objetivo, u_inicial, method='SLSQP', constraints={'type': 'eq', 'fun': restricao})\n",
    "\n",
    "   return resultado.x, -resultado.fun\n",
    "\n",
    "v = np.array([3, 4, 5])\n",
    "u_otimo, produto_max = otimizar_produto_escalar(v)\n",
    "\n",
    "u_analitico = v / np.linalg.norm(v)\n",
    "produto_analitico = np.dot(u_analitico, v)\n",
    "\n",
    "print(f\"Vetor v: {v}\")\n",
    "print(f\"Scipy - u ótimo: {u_otimo}\")\n",
    "print(f\"Scipy - produto máximo: {produto_max:.6f}\")\n",
    "print(f\"Analítico - u ótimo: {u_analitico}\")\n",
    "print(f\"Analítico - produto máximo: {produto_analitico:.6f}\")\n",
    "print(f\"Diferença: {np.linalg.norm(u_otimo - u_analitico):.8f}\")"
   ]
  },
  {
   "cell_type": "code",
   "execution_count": 12,
   "id": "fefdcfd1",
   "metadata": {},
   "outputs": [
    {
     "name": "stdout",
     "output_type": "stream",
     "text": [
      "[0.42427197 0.56568183 0.70710492]\n"
     ]
    }
   ],
   "source": [
    "# Solução professor\n",
    "from scipy.optimize import minimize\n",
    "\n",
    "v = np.array([3, 4, 5])\n",
    "\n",
    "def funcao_objetivo(x):\n",
    "   return -np.dot(v, x)\n",
    "\n",
    "constraint = {'type': 'eq', 'fun': lambda x: np.linalg.norm(x) - 1}\n",
    "\n",
    "resultado = minimize(funcao_objetivo, np.ones(3), constraints = constraint)\n",
    "vetor_otimizado = resultado.x\n",
    "\n",
    "print(vetor_otimizado)"
   ]
  },
  {
   "cell_type": "markdown",
   "id": "3bbac6c4",
   "metadata": {},
   "source": [
    "O objetivo é encontrar um vetor que maximize o produto escalar com um vetor dado v, sob a restrição de que o vetor resultante seja unitário (isto é, tenha norma igual a 1). \n",
    "\n",
    "No SciPy, **minimize** é uma função geral para otimização numérica de funções escalares.\n",
    "\n",
    "A função \"funcao_objetivo\" é a função objetivo a ser otimizada. Ela calcula o produto escalar negativo do vetor v com um vetor x. O sinal negativo é usado porque a função minimize procura minimizar o valor da função objetivo. Neste caso, minimizar o negativo do produto escalar é o mesmo que maximizar o produto escalar.\n",
    "\n",
    "A variável **constraint** é a restrição que exige que a norma (ou magnitude) do vetor x seja 1, tornando-o um vetor unitário. A chave 'type': 'eq' indica que é uma restrição de igualdade, ou seja, a função deve resultar em zero.\n",
    "\n",
    "Esta linha abaixo:\n",
    "\n",
    "resultado = minimize(funcao_objetivo, np.ones(3), constraints = constraint)\n",
    "\n",
    "chama a função minimize, passando a função objetivo, um vetor inicial de [1, 1, 1] (três uns) e a restrição definida. A função minimize irá ajustar o vetor inicial para encontrar o vetor que maximiza o produto escalar com v enquanto mantém sua norma igual a 1.\n",
    "\n",
    "Após a otimização, o vetor resultante é armazenado na propriedade x do objeto resultado. Este vetor é o vetor unitário que maximiza o produto escalar com v sob a restrição dada.\n",
    "\n",
    "O código acima usa otimização numérica para encontrar um vetor unitário que tenha o máximo produto escalar possível com o vetor [3, 4, 5].\n",
    "\n",
    "Acabamos de reproduzir (de forma simplificada) a ideia por trás do algoritmo de descida do gradiente, a principal técnica usada no treinamento de modelos de Deep Learning e diversos algoritmos mais simples de Machine Learning.\n",
    "\n",
    "Machine Learning é, de fato, um problema de otimização matemática, onde queremos minimizar a função objetivo (função de erro), encontrando valores que façam com que a função tenha o menor resultado possível, ou seja, o modelo de Machine Learning tenha o menor erro possível."
   ]
  },
  {
   "cell_type": "code",
   "execution_count": 13,
   "id": "cb85f81c",
   "metadata": {},
   "outputs": [
    {
     "name": "stdout",
     "output_type": "stream",
     "text": [
      "Valor do produto escalar: 7.0710678347924105\n"
     ]
    }
   ],
   "source": [
    "# Calculando o produto escalar entre o vetor incial e o vetor resultante\n",
    "\n",
    "produto_escalar = np.dot(v, vetor_otimizado)\n",
    "print(f\"Valor do produto escalar: {produto_escalar}\")"
   ]
  },
  {
   "cell_type": "markdown",
   "id": "78532a1a",
   "metadata": {},
   "source": [
    "### Exercício 4: Produto Vetorial e Direção Normal\n",
    "\n",
    "Descrição: Dados três pontos no espaço 3D A = [1, 2, 3], B = [4, 5, 6], e C = [7, 8, 9], encontre um vetor normal ao plano definido por esses três pontos."
   ]
  },
  {
   "cell_type": "code",
   "execution_count": 4,
   "id": "307faf18",
   "metadata": {},
   "outputs": [
    {
     "name": "stdout",
     "output_type": "stream",
     "text": [
      "=== VETOR NORMAL DO PLANO ===\n",
      "Ponto A: [1 2 3]\n",
      "Pronto B: [4 5 6]\n",
      "Pronto C: [7 8 9]\n",
      "\n",
      "Vetores no plano:\n",
      "AB = [3 3 3]\n",
      "AC = [6 6 6]\n",
      "\n",
      "Vetor normal:\n",
      "n = AB x AC = [0 0 0]\n",
      "Magnitude: |n| = 0.000000\n",
      "\n",
      "Veriricação (deve ser ~0):\n",
      "n · AB = 0.0000000000\n",
      "n · AC = 0.0000000000\n",
      "\n",
      " AVISO: Os pontos são colineares!\n",
      "Não definem um plano único.\n",
      "\n",
      "=== EXEMPLO COM PONTOS NÃO COLIENARES ===\n",
      "Pontos: A=[0 0 0], B=[1 0 0], C=[0 1 0]\n",
      "AB = [1 0 0]\n",
      "AC = [0 1 0]\n",
      "Normal = [0 0 1]\n",
      "Normal unitário =  [0. 0. 1.]\n"
     ]
    }
   ],
   "source": [
    "import numpy as np\n",
    "\n",
    "def vetor_normal_plano(A, B, C):\n",
    "   AB = B - A\n",
    "   AC = C - A\n",
    "\n",
    "   normal = np.cross(AB, AC)\n",
    "\n",
    "   return AB, AC, normal\n",
    "\n",
    "A = np.array([1, 2, 3])\n",
    "B = np.array([4, 5, 6])\n",
    "C = np.array([7, 8, 9])\n",
    "\n",
    "print(\"=== VETOR NORMAL DO PLANO ===\")\n",
    "print(f\"Ponto A: {A}\")\n",
    "print(f\"Pronto B: {B}\")\n",
    "print(f\"Pronto C: {C}\")\n",
    "\n",
    "AB, AC, normal = vetor_normal_plano(A, B, C)\n",
    "\n",
    "print(f\"\\nVetores no plano:\")\n",
    "print(f\"AB = {AB}\")\n",
    "print(f\"AC = {AC}\")\n",
    "\n",
    "print(f\"\\nVetor normal:\")\n",
    "print(f\"n = AB x AC = {normal}\")\n",
    "print(f\"Magnitude: |n| = {np.linalg.norm(normal):.6f}\")\n",
    "\n",
    "dot_AB = np.dot(normal, AB)\n",
    "dot_AC = np.dot(normal, AC)\n",
    "\n",
    "print(f\"\\nVeriricação (deve ser ~0):\")\n",
    "print(f\"n · AB = {dot_AB:.10f}\")\n",
    "print(f\"n · AC = {dot_AC:.10f}\")\n",
    "\n",
    "if np.linalg.norm(normal) < 1e-10:\n",
    "   print(\"\\n AVISO: Os pontos são colineares!\")\n",
    "   print(\"Não definem um plano único.\")\n",
    "else:\n",
    "   normal_unitario = normal / np.linalg.norm(normal)\n",
    "   print(\"\\nVetor normal unitário:\")\n",
    "   print(f\"n̂ = {normal_unitario}\")\n",
    "   print(f\"Magnitude: |n̂| = {np.linalg.norm(normal_unitario):.6f}\")\n",
    "\n",
    "print(f\"\\n=== EXEMPLO COM PONTOS NÃO COLIENARES ===\")\n",
    "A2 = np.array([0, 0, 0])\n",
    "B2 = np.array([1, 0, 0])\n",
    "C2 = np.array([0, 1, 0])\n",
    "\n",
    "AB2, AC2, normal2 = vetor_normal_plano(A2, B2, C2)\n",
    "\n",
    "print(f\"Pontos: A={A2}, B={B2}, C={C2}\")\n",
    "print(f\"AB = {AB2}\")\n",
    "print(f\"AC = {AC2}\")\n",
    "print(f\"Normal = {normal2}\")\n",
    "print(f\"Normal unitário =  {normal2/np.linalg.norm(normal2)}\")"
   ]
  },
  {
   "cell_type": "code",
   "execution_count": 8,
   "id": "41126fa5",
   "metadata": {},
   "outputs": [
    {
     "name": "stdout",
     "output_type": "stream",
     "text": [
      "Valor do vetor normal: [0 0 0]\n"
     ]
    }
   ],
   "source": [
    "# Solução professor\n",
    "A = np.array([1, 2, 3])\n",
    "B = np.array([4, 5, 6])\n",
    "C = np.array([7, 8, 9])\n",
    "\n",
    "AB = A - B\n",
    "AC = C - A\n",
    "\n",
    "vetor_normal = np.cross(AB, AC)\n",
    "print(f\"Valor do vetor normal: {vetor_normal}\")"
   ]
  },
  {
   "cell_type": "markdown",
   "id": "8a90bfe3",
   "metadata": {},
   "source": [
    "### Exercício 5: Produto Vetorial em Análise de Dados\n",
    "\n",
    "Descrição: Em um conjunto de dados 3D com pontos p1 = [1, 2, 3], p2 = [4, 5, 6], e p3 = [7, 8, 9], encontre o vetor normal ao plano formado por esses três pontos e interprete seu significado em termos de orientação do plano."
   ]
  },
  {
   "cell_type": "markdown",
   "id": "3f2aade3",
   "metadata": {},
   "source": [
    "Resposta:\n",
    "\n",
    "O vetor normal ao plano definido pelos pontos A = [1, 2, 3], B = [4, 5, 6], e C = [7, 8, 9] resultou em [0, 0, 0]. Isso ocorre porque os pontos A, B, e C são colineares no espaço 3D, ou seja, eles estão alinhados em uma única linha reta. Portanto, não formam um plano distinto no qual um vetor normal único possa ser definido.\n",
    "\n",
    "Em termos geométricos, quando três pontos são colineares, os vetores que os conectam (neste caso, AB e AC) são paralelos ou antiparalelos. O produto vetorial de dois vetores paralelos ou antiparalelos é sempre zero, o que explica o resultado obtido. "
   ]
  },
  {
   "cell_type": "code",
   "execution_count": 17,
   "id": "1652efd1",
   "metadata": {},
   "outputs": [
    {
     "name": "stdout",
     "output_type": "stream",
     "text": [
      "=== ANÁLISE DE DADOS 3D ===\n",
      "Ponto 1: [1 2 3]\n",
      "Ponto 2: [4 5 6]\n",
      "Ponto 3: [7 8 9]\n",
      "\n",
      "=== VETORES DO PLANO ===\n",
      "v1 = p2 - p1 = [3 3 3]\n",
      "v2 = p3 - p1 = [6 6 6]\n",
      "\n",
      "=== PRODUTO VETORIAL ===\n",
      "Normal = v1 × v2 = [0 0 0]\n",
      "Magnitude = 0.0000000000\n",
      "\n",
      " RESULTADO: PONTOS COLINEARES\n",
      "Os três pontos estão em linha reta!\n",
      "Não definem um plano único.\n",
      "Razão v2/v1 = 2.0 (constante)\n",
      "Direção da linha: [0.57735027 0.57735027 0.57735027]\n",
      "\n",
      "=== EXEMPLO: PONTOS NÃO COLINEARES ===\n",
      "Pontos: [0 0 0], [3 0 0], [0 3 0]\n",
      "Normal: [0 0 9]\n",
      "Normal unitário: [0. 0. 1.]\n",
      "• Erro na interpretação\n",
      "\n",
      "=== APLICAÇÕES EM ANÁLISE DE DADOS ===\n",
      "1. Detecção de colinearidade: pontos em linha reta\n",
      "2. Análise de superfícies: orientação de planos\n",
      "3. PCA 3D: direções principais de variação\n",
      "4. Computação gráfica: normais para iluminação\n",
      "5. Geometria computacional: orientação de faces\n",
      "\n",
      "=== SIGNIFICADO DO RESULTADO ===\n",
      "• Os dados mostram uma relação LINEAR perfeita\n",
      "• Todos os pontos seguem a mesma direção\n",
      "• Pode indicar dependência linear entre variáveis\n",
      "• Em análise de dados: redução de dimensionalidade natural\n"
     ]
    }
   ],
   "source": [
    "import numpy as np\n",
    "import matplotlib.pyplot as plt\n",
    "from mpl_toolkits.mplot3d import Axes3D\n",
    "\n",
    "\n",
    "def analisar_pontos_3d(p1, p2, p3):\n",
    "    v1 = p2 - p1\n",
    "    v2 = p3 - p1\n",
    "\n",
    "    normal = np.cross(v1, v2)\n",
    "    magnitude_normal = np.linalg.norm(normal)\n",
    "\n",
    "    colinear = magnitude_normal < 1e-10\n",
    "\n",
    "    if not colinear:\n",
    "        normal_unitario = (\n",
    "            normal / magnitude_normal\n",
    "        )  \n",
    "    else:\n",
    "        normal_unitario = None\n",
    "\n",
    "    return v1, v2, normal, normal_unitario, colinear, magnitude_normal\n",
    "\n",
    "\n",
    "def interpretar_orientacao(normal, normal_unitario):\n",
    "    if normal_unitario is None:\n",
    "        return [\"Pontos colineares - não formam plano\"]  \n",
    "\n",
    "    x, y, z = normal_unitario\n",
    "\n",
    "    interpretacoes = []\n",
    "\n",
    "    if abs(z) > 0.8:\n",
    "        if z > 0:\n",
    "            interpretacoes.append(\"Plano quase horizontal (normal aponta para cima)\")\n",
    "        else:\n",
    "            interpretacoes.append(\"Plano quase horizontal (normal aponta para baixo)\")\n",
    "\n",
    "    if abs(x) > 0.8:\n",
    "        if x > 0:\n",
    "            interpretacoes.append(\n",
    "                \"Plano quase vertical (normal aponta para +X)\"\n",
    "            )  \n",
    "        else:\n",
    "            interpretacoes.append(\n",
    "                \"Plano quase vertical (normal aponta para -X)\"\n",
    "            )  \n",
    "\n",
    "    if abs(y) > 0.8:\n",
    "        if y > 0:\n",
    "            interpretacoes.append(\n",
    "                \"Plano quase vertical (normal aponta para +Y)\"\n",
    "            )  \n",
    "        else:\n",
    "            interpretacoes.append(\n",
    "                \"Plano quase vertical (normal aponta para -Y)\"\n",
    "            )  \n",
    "\n",
    "    if not interpretacoes:\n",
    "        interpretacoes.append(\"Plano inclinado (componentes X, Y, Z)\")\n",
    "\n",
    "\n",
    "# Dados\n",
    "p1 = np.array([1, 2, 3])\n",
    "p2 = np.array([4, 5, 6])\n",
    "p3 = np.array([7, 8, 9])\n",
    "\n",
    "print(\"=== ANÁLISE DE DADOS 3D ===\")\n",
    "print(f\"Ponto 1: {p1}\")\n",
    "print(f\"Ponto 2: {p2}\")\n",
    "print(f\"Ponto 3: {p3}\")\n",
    "\n",
    "v1, v2, normal, normal_unitario, colinear, mag_normal = analisar_pontos_3d(p1, p2, p3)\n",
    "\n",
    "print(f\"\\n=== VETORES DO PLANO ===\")\n",
    "print(f\"v1 = p2 - p1 = {v1}\")\n",
    "print(f\"v2 = p3 - p1 = {v2}\")\n",
    "\n",
    "print(f\"\\n=== PRODUTO VETORIAL ===\")\n",
    "print(f\"Normal = v1 × v2 = {normal}\")\n",
    "print(f\"Magnitude = {mag_normal:.10f}\")\n",
    "\n",
    "if colinear:\n",
    "    print(f\"\\n RESULTADO: PONTOS COLINEARES\")  # CORRIGIDO: adicionado emoji\n",
    "    print(\"Os três pontos estão em linha reta!\")\n",
    "    print(\"Não definem um plano único.\")\n",
    "\n",
    "    ratio = v2 / v1 if np.all(v1 != 0) else None\n",
    "    if ratio is not None and np.allclose(ratio, ratio[0]):\n",
    "        print(f\"Razão v2/v1 = {ratio[0]:.1f} (constante)\")\n",
    "\n",
    "    direcao = v1 / np.linalg.norm(v1)\n",
    "    print(f\"Direção da linha: {direcao}\")\n",
    "\n",
    "else:\n",
    "    print(f\"\\n=== INTERPRETAÇÃO GEOMÉTRICA ===\")\n",
    "    print(f\"Vetor normal unitário: {normal_unitario}\")\n",
    "\n",
    "    interpretacoes = interpretar_orientacao(normal, normal_unitario)\n",
    "    for interpretacao in interpretacoes:\n",
    "        print(f\"• {interpretacao}\")\n",
    "\n",
    "\n",
    "print(f\"\\n=== EXEMPLO: PONTOS NÃO COLINEARES ===\")\n",
    "p1_ex = np.array([0, 0, 0])\n",
    "p2_ex = np.array([3, 0, 0])\n",
    "p3_ex = np.array([0, 3, 0])\n",
    "\n",
    "v1_ex, v2_ex, normal_ex, normal_unit_ex, colinear_ex, mag_ex = analisar_pontos_3d(\n",
    "    p1_ex, p2_ex, p3_ex\n",
    ")\n",
    "\n",
    "print(f\"Pontos: {p1_ex}, {p2_ex}, {p3_ex}\")\n",
    "print(f\"Normal: {normal_ex}\")\n",
    "print(f\"Normal unitário: {normal_unit_ex}\")\n",
    "\n",
    "interpretacoes_ex = interpretar_orientacao(normal_ex, normal_unit_ex)\n",
    "if interpretacoes_ex:  \n",
    "    for interpretacao in interpretacoes_ex:\n",
    "        print(f\"• {interpretacao}\")\n",
    "else:\n",
    "    print(\"• Erro na interpretação\")\n",
    "\n",
    "print(f\"\\n=== APLICAÇÕES EM ANÁLISE DE DADOS ===\")\n",
    "print(\"1. Detecção de colinearidade: pontos em linha reta\")\n",
    "print(\"2. Análise de superfícies: orientação de planos\")\n",
    "print(\"3. PCA 3D: direções principais de variação\")\n",
    "print(\"4. Computação gráfica: normais para iluminação\")\n",
    "print(\"5. Geometria computacional: orientação de faces\")\n",
    "\n",
    "print(f\"\\n=== SIGNIFICADO DO RESULTADO ===\")\n",
    "if colinear:\n",
    "    print(\"• Os dados mostram uma relação LINEAR perfeita\")\n",
    "    print(\"• Todos os pontos seguem a mesma direção\")\n",
    "    print(\"• Pode indicar dependência linear entre variáveis\")\n",
    "    print(\"• Em análise de dados: redução de dimensionalidade natural\")\n",
    "else:\n",
    "    print(\"• Os dados definem um plano único no espaço\")\n",
    "    print(\"• Existe variação em duas dimensões independentes\")\n",
    "    print(\"• O vetor normal indica a direção perpendicular ao plano\")\n",
    "    print(\"• Útil para análise de superfícies e orientações\")"
   ]
  },
  {
   "cell_type": "code",
   "execution_count": 18,
   "id": "a9cf6532",
   "metadata": {},
   "outputs": [
    {
     "name": "stdout",
     "output_type": "stream",
     "text": [
      "Author: Data Science Academy\n",
      "\n"
     ]
    }
   ],
   "source": [
    "%reload_ext watermark\n",
    "%watermark -a \"Data Science Academy\""
   ]
  },
  {
   "cell_type": "code",
   "execution_count": 19,
   "id": "a3a7f634",
   "metadata": {},
   "outputs": [
    {
     "name": "stdout",
     "output_type": "stream",
     "text": [
      "Python implementation: CPython\n",
      "Python version       : 3.12.7\n",
      "IPython version      : 8.27.0\n",
      "\n",
      "Compiler    : GCC 11.2.0\n",
      "OS          : Linux\n",
      "Release     : 6.11.0-26-generic\n",
      "Machine     : x86_64\n",
      "Processor   : x86_64\n",
      "CPU cores   : 12\n",
      "Architecture: 64bit\n",
      "\n"
     ]
    }
   ],
   "source": [
    "%watermark -v -m"
   ]
  },
  {
   "cell_type": "code",
   "execution_count": 21,
   "id": "fdca10c9",
   "metadata": {},
   "outputs": [
    {
     "name": "stdout",
     "output_type": "stream",
     "text": [
      "numpy     : 1.26.4\n",
      "matplotlib: 3.9.2\n",
      "\n"
     ]
    }
   ],
   "source": [
    "%watermark --iversions"
   ]
  }
 ],
 "metadata": {
  "kernelspec": {
   "display_name": "base",
   "language": "python",
   "name": "python3"
  },
  "language_info": {
   "codemirror_mode": {
    "name": "ipython",
    "version": 3
   },
   "file_extension": ".py",
   "mimetype": "text/x-python",
   "name": "python",
   "nbconvert_exporter": "python",
   "pygments_lexer": "ipython3",
   "version": "3.12.7"
  }
 },
 "nbformat": 4,
 "nbformat_minor": 5
}
