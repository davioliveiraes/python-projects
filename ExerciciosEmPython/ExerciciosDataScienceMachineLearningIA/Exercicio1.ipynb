{
 "cells": [
  {
   "cell_type": "markdown",
   "metadata": {},
   "source": [
    "<!-- Projeto Desenvolvido na Data Science Academy - www.datascienceacademy.com.br -->\n",
    "# <font color='blue'>Data Science Academy</font>\n",
    "## <font color='blue'>Matemática e Estatística Aplicada Para Data Science, Machine Learning e IA</font>\n",
    "## <font color='blue'>Lista de Exercícios 1</font>\n",
    "## <font color='blue'>Matemática Fundamental com Linguagem Python</font>"
   ]
  },
  {
   "cell_type": "markdown",
   "metadata": {},
   "source": [
    "### Instalando e Carregando Pacotes"
   ]
  },
  {
   "cell_type": "code",
   "execution_count": 48,
   "metadata": {},
   "outputs": [
    {
     "name": "stdout",
     "output_type": "stream",
     "text": [
      "Note: you may need to restart the kernel to use updated packages.\n"
     ]
    }
   ],
   "source": [
    "# Para atualizar um pacote, execute o comando abaixo no terminal ou prompt de comando:\n",
    "# pip install -U nome_pacote\n",
    "\n",
    "# Para instalar a versão exata de um pacote, execute o comando abaixo no terminal ou prompt de comando:\n",
    "# !pip install nome_pacote==versão_desejada\n",
    "\n",
    "# Depois de instalar ou atualizar o pacote, reinicie o jupyter notebook.\n",
    "\n",
    "# Instala o pacote watermark. \n",
    "# Esse pacote é usado para gravar as versões de outros pacotes usados neste jupyter notebook.\n",
    "%pip install -q -U watermark"
   ]
  },
  {
   "cell_type": "code",
   "execution_count": 49,
   "metadata": {},
   "outputs": [
    {
     "name": "stdout",
     "output_type": "stream",
     "text": [
      "Author: Data Science Academy\n",
      "\n"
     ]
    }
   ],
   "source": [
    "# Versões dos pacotes usados neste jupyter notebook\n",
    "%reload_ext watermark\n",
    "%watermark -a \"Data Science Academy\" --iversions"
   ]
  },
  {
   "cell_type": "markdown",
   "metadata": {},
   "source": [
    "**Resolva os exercícios abaixo usando Linguagem Python. Faça pesquisa complementar se necessário.**"
   ]
  },
  {
   "cell_type": "markdown",
   "metadata": {},
   "source": [
    "### Exercício 1: Cálculo de Área de um Círculo\n",
    "\n",
    "Escreva um programa que calcula a área de um círculo. O usuário deve fornecer o raio e o programa deve retornar a área."
   ]
  },
  {
   "cell_type": "code",
   "execution_count": 50,
   "metadata": {},
   "outputs": [
    {
     "name": "stdout",
     "output_type": "stream",
     "text": [
      "A área do circulo de acordo com o raio fornecido é: 314.16m²\n"
     ]
    }
   ],
   "source": [
    "import math\n",
    "\n",
    "try:\n",
    "   raio = float(input(\"Digite o valor do raio: \"))\n",
    "   area = math.pi * (raio ** 2)\n",
    "   print(f\"A área do circulo de acordo com o raio fornecido é: {area:.2f}m²\")\n",
    "except ValueError as e:\n",
    "   print(f\"ERRO: Entrada inválida. Certifique-se de digitar um valor númerico. \\nDetalhes: {e}\")"
   ]
  },
  {
   "cell_type": "code",
   "execution_count": 2,
   "metadata": {},
   "outputs": [
    {
     "name": "stdout",
     "output_type": "stream",
     "text": [
      "Área do círculo: 6361.725123519331\n"
     ]
    }
   ],
   "source": [
    "# SOLUÇÃO DO PROFESSOR\n",
    "import math\n",
    "\n",
    "def area_circulo(raio):\n",
    "   return math.pi * raio ** 2\n",
    "\n",
    "raio = float(input(\"Digite o raio do círculo: \"))\n",
    "print(f\"Área do círculo: {area_circulo(raio)}\")"
   ]
  },
  {
   "cell_type": "markdown",
   "metadata": {},
   "source": [
    "### Exercício 2: Conversão de Temperatura\n",
    "\n",
    "Crie uma função que converte a temperatura de Celsius para Fahrenheit e vice-versa. O usuário deve informar a temperatura e a escala de origem."
   ]
  },
  {
   "cell_type": "code",
   "execution_count": 4,
   "metadata": {},
   "outputs": [
    {
     "name": "stdout",
     "output_type": "stream",
     "text": [
      "A temperatura 50.0 C° em Fahrenheit é: 122.00 F\n"
     ]
    }
   ],
   "source": [
    "temperatura = float(input(\"Digite a temperatura: \"))\n",
    "escala_origem = str(input(\"Digite a escala de origem: (C) - Celsius ou (F) - Fahrenheit\")).strip().upper()[0]\n",
    "\n",
    "if escala_origem == \"C\":\n",
    "   fahrenheit = (temperatura * 9/5) + 32\n",
    "   print(f\"A temperatura {temperatura} C° em Fahrenheit é: {fahrenheit:.2f} F\")\n",
    "elif escala_origem == \"F\":\n",
    "   celsius = (temperatura - 32) * 5/9\n",
    "   print(f\"A temperatura {temperatura} F em Celsius é: {celsius:.2f} C°\")\n",
    "else:\n",
    "   print(\"Escala Inválida. Digite 'C' para Celsius ou 'F' para Fahrenheit.\")"
   ]
  },
  {
   "cell_type": "code",
   "execution_count": 3,
   "metadata": {},
   "outputs": [
    {
     "name": "stdout",
     "output_type": "stream",
     "text": [
      "Temperatura em Fahrenheit: 122.0\n"
     ]
    }
   ],
   "source": [
    "# SOLUÇÃO PROFESSOR\n",
    "\n",
    "def celsius_para_fahrenheit(c):\n",
    "   return (c * 9/5) + 32\n",
    "\n",
    "def fahrenheit_para_celsius(f):\n",
    "   return (f - 32) * 5/9\n",
    "\n",
    "temp = float(input(\"Digite a temperatura: \"))\n",
    "escala = input(\"Digite a escala (C para Celsius, F para Fahrenheit): \")\n",
    "\n",
    "if escala.upper() == \"C\":\n",
    "   print(f\"Temperatura em Fahrenheit: {celsius_para_fahrenheit(temp)}\")\n",
    "else:\n",
    "   print(f\"Temperatura em Celsius: {fahrenheit_para_celsius(temp)}\")"
   ]
  },
  {
   "cell_type": "markdown",
   "metadata": {},
   "source": [
    "### Exercício 3: Resolver uma Equação Linear\n",
    "\n",
    "Faça um programa que resolve uma equação linear do tipo ax + b = 0. Os valores de a e b são fornecidos pelo usuário."
   ]
  },
  {
   "cell_type": "code",
   "execution_count": 52,
   "metadata": {},
   "outputs": [
    {
     "name": "stdout",
     "output_type": "stream",
     "text": [
      "Valor de a: 2 - Valor de b: 3\n",
      "Resultado da equação linear: 2x + 3 = 0\n",
      "Solução: x = -1.50\n",
      "Verificação: 2 * -1.50 + 3 = 0.00\n"
     ]
    }
   ],
   "source": [
    "a = int(input(\"Digite o valor de a: \"))\n",
    "b = int(input(\"Digite o valor de b: \"))\n",
    "\n",
    "if a != 0:\n",
    "   x = -b / a\n",
    "   equacao_linear = a * x + b\n",
    "   print(f\"Valor de a: {a} - Valor de b: {b}\")\n",
    "   print(f\"Resultado da equação linear: {a}x + {b} = 0\")\n",
    "   print(f\"Solução: x = {x:.2f}\")\n",
    "   print(f\"Verificação: {a} * {x:.2f} + {b} = {equacao_linear:.2f}\")\n",
    "else:\n",
    "   if b == 0:\n",
    "      print(\"Inifinitas soluções.\")\n",
    "   else:\n",
    "      print(\"Equação impossível (sem solução).\")\n"
   ]
  },
  {
   "cell_type": "code",
   "execution_count": null,
   "metadata": {},
   "outputs": [
    {
     "name": "stdout",
     "output_type": "stream",
     "text": [
      "Solução da equação: -0.037037037037037035\n"
     ]
    }
   ],
   "source": [
    "# SOLUÇÃO PROFESSOR\n",
    "\n",
    "def resolve_linear(a, b):\n",
    "   if a == 0:\n",
    "      return \"Sem solução\" if b != 0 else \"Soluções infinitas\"\n",
    "   return -b / a\n",
    "\n",
    "a = float(input(\"Digite o valor de a: \"))\n",
    "b = float(input(\"Digite o valor de b: \"))\n",
    "print(f\"Solução da equação: {resolve_linear(a, b)}\")"
   ]
  },
  {
   "cell_type": "markdown",
   "metadata": {},
   "source": [
    "### Exercício 4: Cálculo de Média Aritmética\n",
    "\n",
    "Escreva um programa que calcula a média aritmética de uma lista de números fornecida pelo usuário."
   ]
  },
  {
   "cell_type": "code",
   "execution_count": 53,
   "metadata": {},
   "outputs": [
    {
     "name": "stdout",
     "output_type": "stream",
     "text": [
      "Lista de números: [5, 3, 10, 20]\n",
      "A média aritmética dos números digitados é: 9.50\n"
     ]
    }
   ],
   "source": [
    "lista_numeros = []\n",
    "\n",
    "while True:\n",
    "    escolha_numero = int(input(\"Digite um número: \"))\n",
    "    lista_numeros.append(escolha_numero)\n",
    "    pergunta = str(input(\"Deseja escolher mais números[S] - Sim ou [N] - Não: \")).strip().upper()[0]\n",
    "\n",
    "    if pergunta in \"Nn\":\n",
    "        break\n",
    "    \n",
    "print(f\"Lista de números: {lista_numeros}\")\n",
    "soma = sum(lista_numeros)\n",
    "media = soma / len(lista_numeros)\n",
    "print(f\"A média aritmética dos números digitados é: {media:.2f}\")"
   ]
  },
  {
   "cell_type": "code",
   "execution_count": 10,
   "metadata": {},
   "outputs": [
    {
     "name": "stdout",
     "output_type": "stream",
     "text": [
      "Média aritmética: 4.0\n"
     ]
    }
   ],
   "source": [
    "# SOLUÇÃO PROFESSOR\n",
    "def media_aritmetica(numeros):\n",
    "   return sum(numeros) / len(numeros)\n",
    "\n",
    "numeros = [float(n) for n in input(\"Digite uma lista de números separados por espaço: \").split()]\n",
    "4\n",
    "print(f\"Média aritmética: {media_aritmetica(numeros)}\")"
   ]
  },
  {
   "cell_type": "markdown",
   "metadata": {},
   "source": [
    "### Exercício 5: Determinar as Raízes de uma Equação Quadrática\n",
    "\n",
    "Crie um programa que encontra as raízes de uma equação quadrática do tipo ax^2 + bx + c = 0. O programa deve lidar com todos os tipos de raízes (reais e complexas)."
   ]
  },
  {
   "cell_type": "code",
   "execution_count": 54,
   "metadata": {},
   "outputs": [
    {
     "name": "stdout",
     "output_type": "stream",
     "text": [
      "\n",
      "As raízes da equação 2.0x² + 3.0x + 5.0 = 0\n",
      "A equação possui duas raízes complexas: \n",
      "x₁ = -0.75 + 1.39i\n",
      "x₂ = -0.75 - -1.39i\n"
     ]
    }
   ],
   "source": [
    "import cmath\n",
    "\n",
    "a = float(input(\"Digite o valor de a: \"))\n",
    "b = float(input(\"Digite o valor de b: \"))\n",
    "c = float(input(\"Digite o valor de c: \"))\n",
    "\n",
    "if a == 0:\n",
    "   print(\"Isso não é uma equação do segundo grau (a não pode ser zero).\")\n",
    "else:\n",
    "   delta = b ** 2 - 4 * a * c\n",
    "   raiz_1 = (-b + cmath.sqrt(delta)) / (2 * a)\n",
    "   raiz_2 = (-b - cmath.sqrt(delta)) / (2 * a)\n",
    "\n",
    "   print(f\"\\nAs raízes da equação {a}x² + {b}x + {c} = 0\")\n",
    "\n",
    "   if delta > 0:\n",
    "      print(\"A equação possui duas raízes reais e distintas: \")\n",
    "      print(f\"x₁ = {raiz_1.real:.2f}\")\n",
    "      print(f\"x₂ = {raiz_2.real:.2f}\")\n",
    "   elif delta == 0:\n",
    "      print(\"A equação possui duas raízes reais e distintas:\")\n",
    "      print(f\"x₁ = x₂ = {raiz_1.real:.2f}\")\n",
    "   else:\n",
    "      print(\"A equação possui duas raízes complexas: \")\n",
    "      print(f\"x₁ = {raiz_1.real:.2f} + {raiz_1.imag:.2f}i\")\n",
    "      print(f\"x₂ = {raiz_2.real:.2f} - {raiz_2.imag:.2f}i\")"
   ]
  },
  {
   "cell_type": "code",
   "execution_count": 11,
   "metadata": {},
   "outputs": [
    {
     "name": "stdout",
     "output_type": "stream",
     "text": [
      "As raízes da equação são: ((-0.13333333333333333+1.2840906856172147j), (-0.13333333333333333-1.2840906856172147j))\n"
     ]
    }
   ],
   "source": [
    "# SOLUÇÃO DO PROFESSOR\n",
    "\n",
    "import cmath\n",
    "\n",
    "def raizes_quadraticas(a, b, c):\n",
    "   delta = cmath.sqrt(b**2 - 4*a*c)\n",
    "\n",
    "   x1 = (-b + delta) / (2*a)\n",
    "   x2 = (-b - delta) / (2*a)\n",
    "   return (x1, x2)\n",
    "\n",
    "a = float(input(\"Digite o valor de a: \"))\n",
    "b = float(input(\"Digite o valor de b: \"))\n",
    "c = float(input(\"Digite o valor de c: \"))\n",
    "\n",
    "print(f\"As raízes da equação são: {raizes_quadraticas(a, b, c)}\")"
   ]
  },
  {
   "cell_type": "markdown",
   "metadata": {},
   "source": [
    "### Exercício 6: Calcular o Fatorial de um Número\n",
    "\n",
    "Escreva uma função que calcula o fatorial de um número inteiro fornecido pelo usuário."
   ]
  },
  {
   "cell_type": "code",
   "execution_count": 55,
   "metadata": {},
   "outputs": [
    {
     "name": "stdout",
     "output_type": "stream",
     "text": [
      "O resultado de 10 fatorial é: 3628800\n"
     ]
    }
   ],
   "source": [
    "def calcular_fatorial(n):\n",
    "   if n < 0:\n",
    "      return \"Não é possível calcular o fatorial de número negativo.\"\n",
    "   else:\n",
    "      fatorial = 1\n",
    "      for i in range(1, n+1):\n",
    "         fatorial *= i\n",
    "   return fatorial\n",
    "\n",
    "numero = int(input(\"Digite um número para calcularo seu fatorial: \"))\n",
    "resultado = calcular_fatorial(numero)\n",
    "print(f\"O resultado de {numero} fatorial é: {resultado}\")"
   ]
  },
  {
   "cell_type": "code",
   "execution_count": null,
   "metadata": {},
   "outputs": [
    {
     "name": "stdout",
     "output_type": "stream",
     "text": [
      "Fatorial: 120\n"
     ]
    }
   ],
   "source": [
    "# SOLUÇÃO PROFESSOR\n",
    "\n",
    "def fatorial(n):\n",
    "   return 1 if n == 0 else n * fatorial(n-1)\n",
    "\n",
    "num = int(input(\"Digite um número: \"))\n",
    "print(f\"Fatorial: {fatorial(num)}\")"
   ]
  },
  {
   "cell_type": "markdown",
   "metadata": {},
   "source": [
    "### Exercício 7: Sequência de Fibonacci\n",
    "\n",
    "Crie um programa que gera a sequência de Fibonacci até um determinado número n fornecido pelo usuário."
   ]
  },
  {
   "cell_type": "code",
   "execution_count": 56,
   "metadata": {},
   "outputs": [
    {
     "name": "stdout",
     "output_type": "stream",
     "text": [
      "A sequência fibonacci até 10 é: [0, 1, 1, 2, 3, 5, 8]\n"
     ]
    }
   ],
   "source": [
    "def gerar_fibonacci(n):\n",
    "   if n <= 0:\n",
    "      return []\n",
    "   sequencia = [0, 1]\n",
    "   while sequencia[-1] + sequencia[-2] <= n:\n",
    "      proximo = sequencia[-1] + sequencia[-2]\n",
    "      sequencia.append(proximo)\n",
    "   return sequencia\n",
    "\n",
    "numero = int(input(\"Digite um número inteiro positivo: \"))\n",
    "fibonacci = gerar_fibonacci(numero)\n",
    "print(f\"A sequência fibonacci até {numero} é: {fibonacci}\")"
   ]
  },
  {
   "cell_type": "code",
   "execution_count": 16,
   "metadata": {},
   "outputs": [
    {
     "name": "stdout",
     "output_type": "stream",
     "text": [
      "Sequência de Fibonacci: [0, 1, 1, 2, 3, 5, 8, 13, 21, 34]\n"
     ]
    }
   ],
   "source": [
    "# SOLUÇÃO DO PROFESSOR\n",
    "\n",
    "def fibonacci(n):\n",
    "   a, b = 0, 1\n",
    "   for _ in range(n):\n",
    "      yield a \n",
    "      a, b = b, a + b\n",
    "\n",
    "n = int(input(\"Digite o número de termos da sequência de Fibonacci: \"))\n",
    "print(f\"Sequência de Fibonacci: {list(fibonacci(n))}\")"
   ]
  },
  {
   "cell_type": "markdown",
   "metadata": {},
   "source": [
    "### Exercício 8: Cálculo de Juros Compostos\n",
    "\n",
    "Faça um programa que calcula o montante final de um investimento com juros compostos. O usuário deve fornecer o capital inicial, a taxa de juros anual, e o número de anos."
   ]
  },
  {
   "cell_type": "code",
   "execution_count": null,
   "metadata": {},
   "outputs": [
    {
     "name": "stdout",
     "output_type": "stream",
     "text": [
      "O montante após 6 anos será R$10,030.04\n"
     ]
    }
   ],
   "source": [
    "def calcular_juros_compostos(capital_inicial, taxa_juros_anual, numero_anos):\n",
    "   montante = capital_inicial * (1 + taxa_juros_anual / 100) ** numero_anos\n",
    "   return montante\n",
    "\n",
    "capital_inicial = float(input(\"Digite a capital inicial: R$ \"))\n",
    "taxa_juros_anual = float(input(\"Digite a taxa de juros anual(em decimal): \"))\n",
    "numero_anos = int(input(\"Digite a quantidade anos: \"))\n",
    "\n",
    "montante_final = calcular_juros_compostos(capital_inicial, taxa_juros_anual, numero_anos)\n",
    "print(f\"O montante após {numero_anos} anos será R${montante_final:,.2f}\")"
   ]
  },
  {
   "cell_type": "code",
   "execution_count": 17,
   "metadata": {},
   "outputs": [
    {
     "name": "stdout",
     "output_type": "stream",
     "text": [
      "Montante Final: 13400.956406250005\n"
     ]
    }
   ],
   "source": [
    "# SOLUÇÃO PROFESSOR\n",
    "\n",
    "def juros_composto(capital, taxa, anos):\n",
    "   return capital * (1 + taxa) ** anos\n",
    "\n",
    "capital = float(input(\"Digite o capital inicial: \"))\n",
    "taxa = float(input(\"Digite a taxa de juros anual(em decimal): \"))\n",
    "anos = int(input(\"Digite o número de anos: \"))\n",
    "\n",
    "print(f\"Montante Final: {juros_composto(capital, taxa, anos)}\")"
   ]
  },
  {
   "cell_type": "markdown",
   "metadata": {},
   "source": [
    "### Exercício 9: Conversão de Moedas\n",
    "\n",
    "Escreva um programa que converte uma quantidade de uma moeda (como dólar) para outra (como euro), considerando uma taxa de câmbio fornecida pelo usuário."
   ]
  },
  {
   "cell_type": "code",
   "execution_count": 20,
   "metadata": {},
   "outputs": [
    {
     "name": "stdout",
     "output_type": "stream",
     "text": [
      "Resultado em dolár é: $22.22\n"
     ]
    }
   ],
   "source": [
    "valor = float(input(\"Digite o valor em R$: \"))\n",
    "moeda = str(input(\"Digite a moeda que quer converter: (D) - Dólar ; (E) - Euro\")).strip().upper()[0]\n",
    "\n",
    "if moeda == \"D\":\n",
    "   taxa_cambio = float(input(\"Digite a taxa de câmbio do dólar referente ao real: R$\"))\n",
    "   dolar = valor / taxa_cambio\n",
    "   print(f\"Resultado em dolár é: ${dolar:,.2f}\")\n",
    "elif moeda == \"E\":\n",
    "   taxa_cambio = float(input(\"Digite a taxa de câmbio do euro referente ao real: R$\"))\n",
    "   euro = valor / taxa_cambio\n",
    "   print(f\"Resultado em euro é: €{euro:,.2f}\")\n",
    "else:\n",
    "   print(\"Erro: certifique-se que esteja colocando os valores corretamente.\")"
   ]
  },
  {
   "cell_type": "code",
   "execution_count": 19,
   "metadata": {},
   "outputs": [
    {
     "name": "stdout",
     "output_type": "stream",
     "text": [
      "Valor convertido: 648.0\n"
     ]
    }
   ],
   "source": [
    "# SOLUÇÃO PROFESSOR\n",
    "\n",
    "def converter_moeda(valor, taxa_cambio):\n",
    "   return valor * taxa_cambio\n",
    "\n",
    "valor = float(input(\"Digite o valor na moeda original: \"))\n",
    "taxa_cambio = float(input(\"Digite a taxa de câmbio: \"))\n",
    "print(f\"Valor convertido: {converter_moeda(valor, taxa_cambio)}\")"
   ]
  },
  {
   "cell_type": "markdown",
   "metadata": {},
   "source": [
    "### Exercício 10: Verificar se um Número é Primo\n",
    "\n",
    "Crie uma função que verifica se um número fornecido pelo usuário é primo ou não."
   ]
  },
  {
   "cell_type": "code",
   "execution_count": 59,
   "metadata": {},
   "outputs": [
    {
     "name": "stdout",
     "output_type": "stream",
     "text": [
      "10 não é um número primo;\n"
     ]
    }
   ],
   "source": [
    "def numero_primo(n):\n",
    "   if n <= 0:\n",
    "      return False\n",
    "   for i in range(2, int(n**0.5) + 1):\n",
    "      if i % 1 == 0:\n",
    "         return False\n",
    "   return True\n",
    "\n",
    "numero = int(input(\"Digite um número inteiro: \"))\n",
    "if numero_primo(numero):\n",
    "   print(f\"{numero} é um número primo;\")\n",
    "else:\n",
    "   print(f\"{numero} não é um número primo;\")"
   ]
  },
  {
   "cell_type": "code",
   "execution_count": 23,
   "metadata": {},
   "outputs": [
    {
     "name": "stdout",
     "output_type": "stream",
     "text": [
      "O número é primo!\n"
     ]
    }
   ],
   "source": [
    "# SOLUÇÃO PROFESSOR \n",
    "\n",
    "def e_primo(num):\n",
    "   if num < 2:\n",
    "      return False\n",
    "   for i in range(2, int(num**0.5) + 1):\n",
    "      if num % i == 0:\n",
    "         return False\n",
    "   return True\n",
    "\n",
    "numero = int(input(\"Digite um número: \"))\n",
    "print(f\"O número é primo!\" if e_primo(numero) else \"O número não é primo!\")"
   ]
  },
  {
   "cell_type": "code",
   "execution_count": 60,
   "metadata": {},
   "outputs": [
    {
     "name": "stdout",
     "output_type": "stream",
     "text": [
      "Author: Data Science Academy\n",
      "\n"
     ]
    }
   ],
   "source": [
    "%reload_ext watermark\n",
    "%watermark -a \"Data Science Academy\""
   ]
  },
  {
   "cell_type": "code",
   "execution_count": 61,
   "metadata": {},
   "outputs": [],
   "source": [
    "#%watermark -v -m"
   ]
  },
  {
   "cell_type": "markdown",
   "metadata": {},
   "source": [
    "# Fim"
   ]
  }
 ],
 "metadata": {
  "kernelspec": {
   "display_name": "base",
   "language": "python",
   "name": "python3"
  },
  "language_info": {
   "codemirror_mode": {
    "name": "ipython",
    "version": 3
   },
   "file_extension": ".py",
   "mimetype": "text/x-python",
   "name": "python",
   "nbconvert_exporter": "python",
   "pygments_lexer": "ipython3",
   "version": "3.12.7"
  }
 },
 "nbformat": 4,
 "nbformat_minor": 2
}
