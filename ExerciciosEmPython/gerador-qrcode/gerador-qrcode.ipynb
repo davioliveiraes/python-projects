{
 "cells": [
  {
   "cell_type": "markdown",
   "id": "6a649f54-8f0f-46dd-933a-e934d67e51b0",
   "metadata": {},
   "source": [
    "Para instalar:\n",
    "\n",
    "```\n",
    "pip install qrcode\n",
    "pip install Pillow\n",
    "```"
   ]
  },
  {
   "cell_type": "code",
   "execution_count": 8,
   "id": "038b1eac-e441-4d0f-84af-097c3ade3791",
   "metadata": {},
   "outputs": [],
   "source": [
    "import qrcode\n",
    "from PIL import Image\n",
    "\n",
    "url_redes_sociais = [\n",
    "   \"https://www.linkedin.com/in/davi-oliveira001/\",\n",
    "   \"https://www.instagram.com/davioliveira_es/\",\n",
    "   \"https://www.facebook.com/davi.lima.7547\",\n",
    "   \"https://github.com/davioliveiraes\"\n",
    "]\n",
    "\n",
    "imagens_logo = [\n",
    "   \"icone_linkedin.jpg\",\n",
    "   \"icone_instagram.jpg\",\n",
    "   \"icone_facebook.jpg\",\n",
    "   \"icone_github.jpg\"\n",
    "]\n",
    "\n",
    "imagens_qrcode = []\n",
    "\n",
    "for i, url in enumerate(url_redes_sociais):\n",
    "   qr = qrcode.QRCode(\n",
    "      version=1,\n",
    "      error_correction=qrcode.constants.ERROR_CORRECT_H,\n",
    "      box_size=10,\n",
    "      border=4,\n",
    "   )\n",
    "\n",
    "   qr.add_data(url)\n",
    "   qr.make(fit=True)\n",
    "   img = qr.make_image(fill='black', back_color=\"white\").convert(\"RGB\")\n",
    "\n",
    "   logo = Image.open(imagens_logo[i]).convert(\"RGBA\")\n",
    "   base_width = 40\n",
    "   w_percent = (base_width / float(logo.size[0]))\n",
    "   h_size = int(float(logo.size[1]) * float(w_percent))\n",
    "   logo = logo.resize((base_width, h_size), Image.LANCZOS)\n",
    "\n",
    "   pos = ((img.size[0] - logo.size[0]) // 2, (img.size[1] - logo.size[1]) // 2)\n",
    "   img.paste(logo, pos, mask=logo)\n",
    "\n",
    "   imagens_qrcode.append(img)\n",
    "\n",
    "largura_total = sum(img.size[0] for img in imagens_qrcode)\n",
    "altura_maxima = max(img.size[1] for img in imagens_qrcode)\n",
    "\n",
    "imagem_final = Image.new('RGB', (largura_total, altura_maxima), \"white\")\n",
    "\n",
    "posicao_x = 0\n",
    "for img in imagens_qrcode:\n",
    "   imagem_final.paste(img, (posicao_x, 0))\n",
    "   posicao_x += img.size[0]\n",
    "\n",
    "imagem_final.show()"
   ]
  }
 ],
 "metadata": {
  "kernelspec": {
   "display_name": "Python 3",
   "language": "python",
   "name": "python3"
  },
  "language_info": {
   "codemirror_mode": {
    "name": "ipython",
    "version": 3
   },
   "file_extension": ".py",
   "mimetype": "text/x-python",
   "name": "python",
   "nbconvert_exporter": "python",
   "pygments_lexer": "ipython3",
   "version": "3.12.4"
  }
 },
 "nbformat": 4,
 "nbformat_minor": 5
}
